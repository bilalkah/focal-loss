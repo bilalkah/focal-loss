{
 "cells": [
  {
   "cell_type": "code",
   "execution_count": 1,
   "source": [
    "from lenet.arch import LeNet\r\n",
    "import torch\r\n",
    "import torch.nn as nn\r\n",
    "import torch.optim as optim\r\n",
    "from torch.utils import data\r\n",
    "from torch.utils.data import TensorDataset,DataLoader\r\n",
    "import torchvision.datasets as datasets\r\n",
    "import torchvision.transforms as transforms\r\n",
    "import numpy as np\r\n",
    "import tqdm\r\n",
    "from time import sleep\r\n",
    "import torchmetrics\r\n",
    "import torch.nn.functional as F\r\n",
    "from losses import CFocalLoss\r\n",
    "from model import Model"
   ],
   "outputs": [],
   "metadata": {}
  },
  {
   "cell_type": "code",
   "execution_count": 2,
   "source": [
    "device = torch.device('cuda' if torch.cuda.is_available() else 'cpu')\r\n",
    "batch_size = 256\r\n",
    "lr = 1e-3\r\n",
    "epochs = 10"
   ],
   "outputs": [],
   "metadata": {}
  },
  {
   "cell_type": "code",
   "execution_count": 3,
   "source": [
    "tensor_x = torch.Tensor(np.load(\"mnist-dataset/mnist-dataset.npy\")) # transform to torch tensor\r\n",
    "tensor_y = torch.Tensor(np.load(\"mnist-dataset/mnist-target.npy\")).type(torch.long)\r\n",
    "tensor_x = tensor_x.permute(0,3,1,2)\r\n",
    "tensor_x = transforms.functional.resize(tensor_x,(32,32))\r\n",
    "my_dataset = TensorDataset(tensor_x,tensor_y) # create your dataset\r\n",
    "train_loader = DataLoader(\r\n",
    "    dataset=my_dataset,\r\n",
    "    batch_size=batch_size,\r\n",
    "    shuffle=True,\r\n",
    ") # create your dataloader\r\n",
    "      \r\n",
    "zero_x = torch.Tensor(np.load(\"mnist-dataset/mnist-zero-test.npy\")) # transform to torch tensor\r\n",
    "zero_y = torch.Tensor(np.load(\"mnist-dataset/mnist-zero-test-target.npy\")).type(torch.long)\r\n",
    "zero_x = zero_x.permute(0,3,1,2)\r\n",
    "zero_x = transforms.functional.resize(zero_x,(32,32))\r\n",
    "\r\n",
    "my_dataset = TensorDataset(zero_x,zero_y) # create your datset\r\n",
    "test_loader = DataLoader(\r\n",
    "    dataset=my_dataset,\r\n",
    "    batch_size=batch_size,\r\n",
    "    shuffle=True,\r\n",
    ") # create your dataloader"
   ],
   "outputs": [],
   "metadata": {}
  },
  {
   "cell_type": "code",
   "execution_count": 4,
   "source": [
    "net = LeNet().to(device)\r\n",
    "alpha = 0.84\r\n",
    "gamma = 2.8\r\n",
    "\r\n",
    "criterion = CFocalLoss(alpha,gamma).to(device)\r\n",
    "optimizer = optim.Adam(net.parameters(),lr=lr)\r\n",
    "metric = torchmetrics.Accuracy().to(device)\r\n",
    "\r\n",
    "model = Model(net,device)"
   ],
   "outputs": [],
   "metadata": {}
  },
  {
   "cell_type": "code",
   "execution_count": 5,
   "source": [
    "model.train(train_loader,test_loader,epochs,batch_size,lr,optimizer,criterion)"
   ],
   "outputs": [
    {
     "output_type": "stream",
     "name": "stderr",
     "text": [
      "Epoch 0: 100%|██████████| 37/37 [00:38<00:00,  1.04s/batch, Train_acc=0.859, Train_loss=0.0302]\n"
     ]
    },
    {
     "output_type": "stream",
     "name": "stdout",
     "text": [
      "train_loss: 0.10316287942633436 train_acc: 0.6508590063533267 - val_loss: 0.46619167923927307 val_acc: 0.0\n"
     ]
    },
    {
     "output_type": "stream",
     "name": "stderr",
     "text": [
      "Epoch 1:  19%|█▉        | 7/37 [00:08<00:34,  1.16s/batch, Train_acc=0.873, Train_loss=0.0268]\n"
     ]
    },
    {
     "output_type": "error",
     "ename": "KeyboardInterrupt",
     "evalue": "",
     "traceback": [
      "\u001b[1;31m---------------------------------------------------------------------------\u001b[0m",
      "\u001b[1;31mKeyboardInterrupt\u001b[0m                         Traceback (most recent call last)",
      "\u001b[1;32m<ipython-input-5-7d0425062bbb>\u001b[0m in \u001b[0;36m<module>\u001b[1;34m\u001b[0m\n\u001b[1;32m----> 1\u001b[1;33m \u001b[0mmodel\u001b[0m\u001b[1;33m.\u001b[0m\u001b[0mtrain\u001b[0m\u001b[1;33m(\u001b[0m\u001b[0mtrain_loader\u001b[0m\u001b[1;33m,\u001b[0m\u001b[0mtest_loader\u001b[0m\u001b[1;33m,\u001b[0m\u001b[0mepochs\u001b[0m\u001b[1;33m,\u001b[0m\u001b[0mbatch_size\u001b[0m\u001b[1;33m,\u001b[0m\u001b[0mlr\u001b[0m\u001b[1;33m,\u001b[0m\u001b[0moptimizer\u001b[0m\u001b[1;33m,\u001b[0m\u001b[0mcriterion\u001b[0m\u001b[1;33m)\u001b[0m\u001b[1;33m\u001b[0m\u001b[1;33m\u001b[0m\u001b[0m\n\u001b[0m",
      "\u001b[1;32mc:\\Users\\bilal\\Desktop\\Nova\\Focal Loss\\model.py\u001b[0m in \u001b[0;36mtrain\u001b[1;34m(self, train_loader, val_loader, epochs, batch_size, lr, optimizer, criterion)\u001b[0m\n\u001b[0;32m     39\u001b[0m                     \u001b[0moptimizer\u001b[0m\u001b[1;33m.\u001b[0m\u001b[0mstep\u001b[0m\u001b[1;33m(\u001b[0m\u001b[1;33m)\u001b[0m\u001b[1;33m\u001b[0m\u001b[1;33m\u001b[0m\u001b[0m\n\u001b[0;32m     40\u001b[0m \u001b[1;33m\u001b[0m\u001b[0m\n\u001b[1;32m---> 41\u001b[1;33m                     \u001b[0mtepoch\u001b[0m\u001b[1;33m.\u001b[0m\u001b[0mset_postfix\u001b[0m\u001b[1;33m(\u001b[0m\u001b[0mTrain_loss\u001b[0m \u001b[1;33m=\u001b[0m \u001b[0mloss\u001b[0m\u001b[1;33m.\u001b[0m\u001b[0mitem\u001b[0m\u001b[1;33m(\u001b[0m\u001b[1;33m)\u001b[0m\u001b[1;33m,\u001b[0m\u001b[0mTrain_acc\u001b[0m \u001b[1;33m=\u001b[0m \u001b[0mtrain_acc\u001b[0m\u001b[1;33m.\u001b[0m\u001b[0mitem\u001b[0m\u001b[1;33m(\u001b[0m\u001b[1;33m)\u001b[0m\u001b[1;33m)\u001b[0m\u001b[1;33m\u001b[0m\u001b[1;33m\u001b[0m\u001b[0m\n\u001b[0m\u001b[0;32m     42\u001b[0m                     \u001b[0msleep\u001b[0m\u001b[1;33m(\u001b[0m\u001b[1;36m0.1\u001b[0m\u001b[1;33m)\u001b[0m\u001b[1;33m\u001b[0m\u001b[1;33m\u001b[0m\u001b[0m\n\u001b[0;32m     43\u001b[0m \u001b[1;33m\u001b[0m\u001b[0m\n",
      "\u001b[1;31mKeyboardInterrupt\u001b[0m: "
     ]
    }
   ],
   "metadata": {}
  }
 ],
 "metadata": {
  "orig_nbformat": 4,
  "language_info": {
   "name": "python",
   "version": "3.8.10",
   "mimetype": "text/x-python",
   "codemirror_mode": {
    "name": "ipython",
    "version": 3
   },
   "pygments_lexer": "ipython3",
   "nbconvert_exporter": "python",
   "file_extension": ".py"
  },
  "kernelspec": {
   "name": "python3",
   "display_name": "Python 3.8.10 64-bit ('torch': conda)"
  },
  "interpreter": {
   "hash": "cabc607de394fb69902ed26cf6e85c8408e47b8ad959df32dea68166b986ae0e"
  }
 },
 "nbformat": 4,
 "nbformat_minor": 2
}