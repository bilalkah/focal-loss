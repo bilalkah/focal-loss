{
 "metadata": {
  "language_info": {
   "codemirror_mode": {
    "name": "ipython",
    "version": 3
   },
   "file_extension": ".py",
   "mimetype": "text/x-python",
   "name": "python",
   "nbconvert_exporter": "python",
   "pygments_lexer": "ipython3",
   "version": "3.8.10"
  },
  "orig_nbformat": 4,
  "kernelspec": {
   "name": "python3",
   "display_name": "Python 3.8.10 64-bit ('torch': conda)"
  },
  "interpreter": {
   "hash": "cabc607de394fb69902ed26cf6e85c8408e47b8ad959df32dea68166b986ae0e"
  }
 },
 "nbformat": 4,
 "nbformat_minor": 2,
 "cells": [
  {
   "cell_type": "code",
   "execution_count": 1,
   "metadata": {},
   "outputs": [
    {
     "output_type": "stream",
     "name": "stdout",
     "text": [
      "(42000, 784)\n"
     ]
    }
   ],
   "source": [
    "import pandas as pd\n",
    "import numpy as np\n",
    "\n",
    "directory = \"digit-recognizer/\"\n",
    "\n",
    "train = pd.read_csv(directory + \"train.csv\")\n",
    "label = np.array(train[\"label\"].values)\n",
    "\n",
    "y_train = np.zeros(shape=(label.shape[0],10),dtype='float32')\n",
    "for i in range(label.shape[0]):\n",
    "    y_train[i][label[i]]=1\n",
    "\n",
    "train.drop(\"label\",inplace=True,axis=1)\n",
    "x_train = np.array([train.values]).reshape(-1,784)/255.0\n",
    "print(x_train.shape)\n",
    "\n",
    "zero = np.array([[0.]*28*28])\n",
    "one = np.array([[0.]*28*28])\n",
    "two = np.array([[0.]*28*28])\n",
    "three = np.array([[0.]*28*28])\n",
    "four = np.array([[0.]*28*28])\n",
    "five = np.array([[0.]*28*28])\n",
    "six = np.array([[0.]*28*28])\n",
    "seven = np.array([[0.]*28*28])\n",
    "eight = np.array([[0.]*28*28])\n",
    "nine = np.array([[0.]*28*28])\n",
    "\n",
    "for _,(data,label) in enumerate(zip(x_train,y_train)):\n",
    "    if label[0]==1.:\n",
    "        zero = np.append(zero,np.expand_dims(data, axis=0),axis=0)\n",
    "    if label[1]==1.:\n",
    "        one = np.append(one,np.expand_dims(data, axis=0),axis=0)\n",
    "    if label[2]==1.:\n",
    "        two = np.append(two,np.expand_dims(data, axis=0),axis=0)\n",
    "    if label[3]==1.:\n",
    "        three = np.append(three,np.expand_dims(data, axis=0),axis=0)\n",
    "    if label[4]==1.:\n",
    "        four = np.append(four,np.expand_dims(data, axis=0),axis=0)\n",
    "    if label[5]==1.:\n",
    "        five = np.append(five,np.expand_dims(data, axis=0),axis=0)\n",
    "    if label[6]==1.:\n",
    "        six = np.append(six,np.expand_dims(data, axis=0),axis=0)\n",
    "    if label[7]==1.:\n",
    "        seven = np.append(seven,np.expand_dims(data, axis=0),axis=0)\n",
    "    if label[8]==1.:\n",
    "        eight = np.append(eight,np.expand_dims(data, axis=0),axis=0)\n",
    "    if label[9]==1.:\n",
    "        nine = np.append(nine,np.expand_dims(data, axis=0),axis=0)\n"
   ]
  },
  {
   "cell_type": "code",
   "execution_count": 2,
   "metadata": {},
   "outputs": [],
   "source": [
    "zero = np.delete(zero, 0, 0)\n",
    "one = np.delete(one, 0, 0)\n",
    "two = np.delete(two, 0, 0)\n",
    "three = np.delete(three, 0, 0)\n",
    "four = np.delete(four, 0, 0)\n",
    "five = np.delete(five, 0, 0)\n",
    "six = np.delete(six, 0, 0)\n",
    "seven = np.delete(seven, 0, 0)\n",
    "eight = np.delete(eight, 0, 0)\n",
    "nine = np.delete(nine, 0, 0)\n"
   ]
  },
  {
   "cell_type": "code",
   "execution_count": 4,
   "metadata": {},
   "outputs": [],
   "source": [
    "np.save(\"./mnist-zero\",zero)\n",
    "np.save(\"./mnist-one\",one)\n",
    "np.save(\"./mnist-two\",two)\n",
    "np.save(\"./mnist-three\",three)\n",
    "np.save(\"./mnist-four\",four)\n",
    "np.save(\"./mnist-five\",five)\n",
    "np.save(\"./mnist-six\",six)\n",
    "np.save(\"./mnist-seven\",seven)\n",
    "np.save(\"./mnist-eight\",eight)\n",
    "np.save(\"./mnist-nine\",nine)\n"
   ]
  },
  {
   "cell_type": "code",
   "execution_count": 1,
   "metadata": {},
   "outputs": [],
   "source": [
    "import numpy as np"
   ]
  },
  {
   "cell_type": "code",
   "execution_count": 41,
   "metadata": {},
   "outputs": [
    {
     "output_type": "stream",
     "name": "stdout",
     "text": [
      "(19, 784)\n"
     ]
    }
   ],
   "source": [
    "zero = np.load(\"mnist-zero.npy\")\n",
    "zero = zero[1:20]\n",
    "print(zero.shape)"
   ]
  },
  {
   "cell_type": "code",
   "execution_count": 42,
   "metadata": {},
   "outputs": [
    {
     "output_type": "stream",
     "name": "stdout",
     "text": [
      "(37887, 784)\n"
     ]
    }
   ],
   "source": [
    "dataset = np.append(zero,np.load(\"mnist-one.npy\"),axis=0)\n",
    "dataset = np.append(dataset,np.load(\"mnist-two.npy\"),axis=0)\n",
    "dataset = np.append(dataset,np.load(\"mnist-three.npy\"),axis=0)\n",
    "dataset = np.append(dataset,np.load(\"mnist-four.npy\"),axis=0)\n",
    "dataset = np.append(dataset,np.load(\"mnist-five.npy\"),axis=0)\n",
    "dataset = np.append(dataset,np.load(\"mnist-six.npy\"),axis=0)\n",
    "dataset = np.append(dataset,np.load(\"mnist-seven.npy\"),axis=0)\n",
    "dataset = np.append(dataset,np.load(\"mnist-eight.npy\"),axis=0)\n",
    "dataset = np.append(dataset,np.load(\"mnist-nine.npy\"),axis=0)\n",
    "print(dataset.shape)"
   ]
  },
  {
   "cell_type": "code",
   "execution_count": 43,
   "metadata": {},
   "outputs": [
    {
     "output_type": "stream",
     "name": "stdout",
     "text": [
      "(37887, 28, 28, 1)\n"
     ]
    }
   ],
   "source": [
    "dataset = dataset.reshape(-1,28,28,1)\n",
    "print(dataset.shape)\n",
    "np.save(\"mnist-dataset\", dataset)"
   ]
  },
  {
   "cell_type": "code",
   "execution_count": 44,
   "metadata": {},
   "outputs": [
    {
     "output_type": "stream",
     "name": "stdout",
     "text": [
      "(37887,)\n[0 0 0 ... 9 9 9]\n"
     ]
    }
   ],
   "source": [
    "import numpy as np\n",
    "target = np.array([0]*19)\n",
    "np.save(\"mnist-zero-target\",target)\n",
    "target = np.append(target,np.array([1]*np.load(\"mnist-one.npy\").shape[0]),axis=0)\n",
    "target = np.append(target,np.array([2]*np.load(\"mnist-two.npy\").shape[0]),axis=0)\n",
    "target = np.append(target,np.array([3]*np.load(\"mnist-three.npy\").shape[0]),axis=0)\n",
    "target = np.append(target,np.array([4]*np.load(\"mnist-four.npy\").shape[0]),axis=0)\n",
    "target = np.append(target,np.array([5]*np.load(\"mnist-five.npy\").shape[0]),axis=0)\n",
    "target = np.append(target,np.array([6]*np.load(\"mnist-six.npy\").shape[0]),axis=0)\n",
    "target = np.append(target,np.array([7]*np.load(\"mnist-seven.npy\").shape[0]),axis=0)\n",
    "target = np.append(target,np.array([8]*np.load(\"mnist-eight.npy\").shape[0]),axis=0)\n",
    "target = np.append(target,np.array([9]*np.load(\"mnist-nine.npy\").shape[0]),axis=0)\n",
    "print(target.shape)\n",
    "print(target)"
   ]
  },
  {
   "cell_type": "code",
   "execution_count": 46,
   "metadata": {},
   "outputs": [],
   "source": [
    "np.save(\"mnist-target\",target)"
   ]
  },
  {
   "cell_type": "code",
   "execution_count": 47,
   "metadata": {},
   "outputs": [],
   "source": [
    "data = np.load(\"mnist-dataset.npy\")\n",
    "target = np.load(\"mnist-target.npy\")"
   ]
  },
  {
   "cell_type": "code",
   "execution_count": 48,
   "metadata": {},
   "outputs": [
    {
     "output_type": "stream",
     "name": "stdout",
     "text": [
      "(37887, 28, 28, 1)\n(37887,)\n"
     ]
    }
   ],
   "source": [
    "print(data.shape)\n",
    "print(target.shape)"
   ]
  },
  {
   "cell_type": "code",
   "execution_count": 18,
   "metadata": {},
   "outputs": [],
   "source": [
    "import torch\n",
    "import numpy as np\n",
    "from torch.utils.data import TensorDataset, DataLoader"
   ]
  },
  {
   "cell_type": "code",
   "execution_count": 19,
   "metadata": {},
   "outputs": [],
   "source": [
    "tensor_x = torch.Tensor(data) # transform to torch tensor\n",
    "tensor_y = torch.Tensor(target)\n",
    "\n",
    "my_dataset = TensorDataset(tensor_x,tensor_y) # create your datset\n",
    "my_dataloader = DataLoader(my_dataset) # create your dataloader"
   ]
  },
  {
   "cell_type": "code",
   "execution_count": 50,
   "metadata": {},
   "outputs": [
    {
     "output_type": "stream",
     "name": "stdout",
     "text": [
      "(60, 28, 28, 1)\n"
     ]
    }
   ],
   "source": [
    "zero = np.load(\"mnist-zero.npy\")\n",
    "zero = zero[40:100].reshape(-1,28,28,1)\n",
    "print(zero.shape)\n",
    "np.save(\"mnist-zero-test\",zero)\n",
    "target = np.array([0]*60)\n",
    "np.save(\"mnist-zero-test-target\",target)"
   ]
  },
  {
   "cell_type": "code",
   "execution_count": 37,
   "metadata": {},
   "outputs": [
    {
     "output_type": "stream",
     "name": "stdout",
     "text": [
      "(37907, 28, 28, 1)\n"
     ]
    }
   ],
   "source": [
    "data = np.load(\"mnist-dataset.npy\")\n",
    "print(data.shape)"
   ]
  },
  {
   "cell_type": "code",
   "execution_count": null,
   "metadata": {},
   "outputs": [],
   "source": []
  }
 ]
}